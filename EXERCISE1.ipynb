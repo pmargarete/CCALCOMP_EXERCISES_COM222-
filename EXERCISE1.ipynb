{
  "cells": [
    {
      "cell_type": "markdown",
      "metadata": {
        "id": "3-prKGbfwFRd"
      },
      "source": [
        "# Exercise 1"
      ]
    },
    {
      "cell_type": "markdown",
      "metadata": {
        "id": "kBW-_z9HwFRf"
      },
      "source": [
        "Please follow the instructions in each number. Do not remove or modify the pre-defined code!"
      ]
    },
    {
      "cell_type": "code",
      "execution_count": 6,
      "metadata": {
        "id": "ABAdD_ngwFRg"
      },
      "outputs": [],
      "source": [
        "# Add a vertex to the set of vertices and the graph\n",
        "def add_vertex(v):\n",
        "  global graph\n",
        "  global vertices_no\n",
        "  global vertices\n",
        "  if v in vertices:\n",
        "    print(\"Vertex \", v, \" already exists\")\n",
        "  else:\n",
        "    vertices_no = vertices_no + 1\n",
        "    vertices.append(v)\n",
        "    if vertices_no > 1:\n",
        "        for vertex in graph:\n",
        "            vertex.append(0)\n",
        "    temp = []\n",
        "    for i in range(vertices_no):\n",
        "        temp.append(0)\n",
        "    graph.append(temp)\n",
        "\n",
        "# Add an edge between vertex v1 and v2 with edge weight e\n",
        "def add_edge(v1, v2, e):\n",
        "    global graph\n",
        "    global vertices_no\n",
        "    global vertices\n",
        "    # Check if vertex v1 is a valid vertex\n",
        "    if v1 not in vertices:\n",
        "        print(\"Vertex \", v1, \" does not exist.\")\n",
        "    # Check if vertex v1 is a valid vertex\n",
        "    elif v2 not in vertices:\n",
        "        print(\"Vertex \", v2, \" does not exist.\")\n",
        "    # Since this code is not restricted to a directed or\n",
        "    # an undirected graph, an edge between v1 v2 does not\n",
        "    # imply that an edge exists between v2 and v1\n",
        "    else:\n",
        "        index1 = vertices.index(v1)\n",
        "        index2 = vertices.index(v2)\n",
        "        graph[index1][index2] = e\n",
        "\n",
        "# Print the graph\n",
        "def print_graph():\n",
        "  global graph\n",
        "  global vertices_no\n",
        "  for i in range(vertices_no):\n",
        "    for j in range(vertices_no):\n",
        "      if graph[i][j] != 0:\n",
        "        print(vertices[i], \" -> \", vertices[j],\n",
        "              \" edge weight: \", graph[i][j])"
      ]
    },
    {
      "cell_type": "code",
      "execution_count": null,
      "metadata": {
        "id": "912w9tR0wFRh"
      },
      "outputs": [],
      "source": [
        "# stores the vertices in the graph\n",
        "vertices = []\n",
        "# stores the number of vertices in the graph\n",
        "vertices_no = 0\n",
        "graph = []"
      ]
    },
    {
      "cell_type": "markdown",
      "metadata": {
        "id": "lzkib3wYwFRh"
      },
      "source": [
        "<img src=\"https://github.com/robitussin/CCALCOMP_EXERCISES/blob/main/images/directed%20graph2.png?raw=true\"/>"
      ]
    },
    {
      "cell_type": "markdown",
      "metadata": {
        "id": "Qfh-2gbPwFRi"
      },
      "source": [
        "1. Print the edges and vertices of the graph in set representation. (`25 points`)"
      ]
    },
    {
      "cell_type": "code",
      "execution_count": 7,
      "metadata": {
        "id": "FSymqoxmwFRi",
        "outputId": "9f9aad93-1580-4c48-b9d2-e4d687ca93c1",
        "colab": {
          "base_uri": "https://localhost:8080/"
        }
      },
      "outputs": [
        {
          "output_type": "stream",
          "name": "stdout",
          "text": [
            "Vertices:\n",
            "E C D B A \n",
            "Edges:\n",
            "A -> C, C -> B, B -> A, C -> D, E -> A, A -> D, \n",
            "Sorted Vertices:\n",
            "A B C D E \n",
            "Sorted Edges:\n",
            "A -> C, A -> D, B -> A, C -> B, C -> D, E -> A, \n"
          ]
        }
      ],
      "source": [
        "vertices = {'A', 'B', 'C', 'D', 'E'}\n",
        "edges = {('A', 'C'), ('A', 'D'), ('B', 'A'), ('C', 'B'), ('C', 'D'), ('E', 'A')}\n",
        "\n",
        "print(\"Vertices:\")\n",
        "for vertex in vertices:\n",
        "    print(vertex, end=' ')\n",
        "print()\n",
        "\n",
        "print(\"Edges:\")\n",
        "for edge in edges:\n",
        "    print(edge[0], \"->\", edge[1], end=', ')\n",
        "print()\n",
        "\n",
        "\n",
        "#IF U WANT SORTED\n",
        "sorted_vertices = sorted(vertices)\n",
        "sorted_edges = sorted(edges)\n",
        "\n",
        "print(\"Sorted Vertices:\")\n",
        "for vertex in sorted(vertices):\n",
        "    print(vertex, end=' ')\n",
        "print()\n",
        "\n",
        "print(\"Sorted Edges:\")\n",
        "for edge in sorted(edges):\n",
        "    print(edge[0], \"->\", edge[1], end=', ')\n",
        "print()\n"
      ]
    },
    {
      "cell_type": "markdown",
      "metadata": {
        "id": "NHt6QEFzwFRi"
      },
      "source": [
        "2. Implement the weighted graph in python code. Use the print_graph() function. (`25 points`)"
      ]
    },
    {
      "cell_type": "code",
      "source": [
        "# USING ADD_VERTEX AND ADD_EDGE\n",
        "graph = []\n",
        "vertices_no = 0\n",
        "vertices = []\n",
        "\n",
        "# ADD VERTEX\n",
        "add_vertex('A')\n",
        "add_vertex('B')\n",
        "add_vertex('C')\n",
        "add_vertex('D')\n",
        "add_vertex('E')\n",
        "\n",
        "# ADD EDGE\n",
        "add_edge('A', 'C', 12)\n",
        "add_edge('A', 'D', 60)\n",
        "add_edge('B', 'A', 10)\n",
        "add_edge('C', 'B', 20)\n",
        "add_edge('C', 'D', 32)\n",
        "add_edge('E', 'A', 7)\n",
        "\n",
        "print(\"Edge and Values:\")\n",
        "print_graph()\n"
      ],
      "metadata": {
        "colab": {
          "base_uri": "https://localhost:8080/"
        },
        "id": "tQwCxIiKbmOb",
        "outputId": "c1eb213c-58eb-477c-b6eb-9a097b117bd9"
      },
      "execution_count": 8,
      "outputs": [
        {
          "output_type": "stream",
          "name": "stdout",
          "text": [
            "A  ->  C  edge weight:  12\n",
            "A  ->  D  edge weight:  60\n",
            "B  ->  A  edge weight:  10\n",
            "C  ->  B  edge weight:  20\n",
            "C  ->  D  edge weight:  32\n",
            "E  ->  A  edge weight:  7\n"
          ]
        }
      ]
    },
    {
      "cell_type": "code",
      "execution_count": 9,
      "metadata": {
        "id": "fcYP9VF9wFRj",
        "outputId": "162217c5-097d-4b77-fefc-b45e131f5b2c",
        "colab": {
          "base_uri": "https://localhost:8080/"
        }
      },
      "outputs": [
        {
          "output_type": "stream",
          "name": "stdout",
          "text": [
            "Edge and Values:\n",
            "A  ->  C  edge weight :  12\n",
            "A  ->  D  edge weight :  60\n",
            "B  ->  A  edge weight :  10\n",
            "C  ->  B  edge weight :  20\n",
            "C  ->  D  edge weight :  32\n",
            "E  ->  A  edge weight :  7\n"
          ]
        }
      ],
      "source": [
        "# DESIGNED A GRAPH\n",
        "\n",
        "vertices = ['A', 'B', 'C', 'D', 'E']\n",
        "vertices_no = len(vertices)\n",
        "\n",
        "# A-E\n",
        "graph = [\n",
        "    [0, 0, 12, 60, 0],\n",
        "    [10, 0, 0, 0, 0],\n",
        "    [0, 20, 0, 32, 0],\n",
        "    [0, 0, 0, 0, 0],\n",
        "    [7, 0, 0, 0, 0]\n",
        "]\n",
        "\n",
        "# Print the graph\n",
        "def print_graph():\n",
        "    global graph\n",
        "    global vertices\n",
        "    global vertices_no\n",
        "\n",
        "    for i in range(vertices_no):\n",
        "        for j in range(vertices_no):\n",
        "            if graph[i][j] != 0:\n",
        "                print(vertices[i], \" -> \", vertices[j],\n",
        "                      \" edge weight : \", graph[i][j])\n",
        "\n",
        "print(\"Edge and Values:\")\n",
        "print_graph() # edge and values\n",
        "\n"
      ]
    },
    {
      "cell_type": "markdown",
      "metadata": {
        "id": "kD-6afNTwFRj"
      },
      "source": [
        "3. You decided to go on a trip around the philippines. Being a computer scientist, you wanted to find the optimal route that would cost the least amount of money to travel all four cities. Find the route and print the total cost of the most optimal route. (`50 points`)"
      ]
    },
    {
      "cell_type": "markdown",
      "metadata": {
        "id": "cBHIHSIewFRj"
      },
      "source": [
        "<img src=\"https://github.com/robitussin/CCALCOMP_EXERCISES/blob/main/images/trip.png?raw=true\" width=\"500\" height=\"600\"/>"
      ]
    },
    {
      "cell_type": "code",
      "execution_count": 2,
      "metadata": {
        "id": "yNwmvIXnwFRj",
        "outputId": "af1d9d1f-6fad-4405-fc5f-20be5b40d69f",
        "colab": {
          "base_uri": "https://localhost:8080/"
        }
      },
      "outputs": [
        {
          "output_type": "stream",
          "name": "stdout",
          "text": [
            "Route:\n",
            "Manila  ->  Tacloban\n",
            "Tacloban  ->  Puerto Princesa\n",
            "Puerto Princesa  ->  Davao\n",
            "Davao  ->  Manila\n",
            "Cost: 11500\n"
          ]
        }
      ],
      "source": [
        "\n",
        "#ROUTE AND CHEAPEST\n",
        "places = ['Manila', 'Tacloban', 'Puerto Princesa', 'Davao', 'Manila']\n",
        "vertices_no = len(places)\n",
        "final_cost = 0\n",
        "\n",
        "cost = [\n",
        "    [0, 1000, 0, 0, 0],\n",
        "    [0, 0, 1500, 0, 0],\n",
        "    [0, 0, 0, 4000, 0],\n",
        "    [0, 0, 0, 0, 5000],\n",
        "    [0, 0, 0, 0, 0]\n",
        "]\n",
        "\n",
        "\n",
        "def print_route():\n",
        "    global cost\n",
        "    global places\n",
        "    global vertices_no\n",
        "    global final_cost\n",
        "\n",
        "    for i in range(vertices_no):\n",
        "        for j in range(vertices_no):\n",
        "            if cost[i][j] != 0:\n",
        "                print(places[i], \" -> \", places[j])\n",
        "                final_cost += cost[i][j]\n",
        "\n",
        "\n",
        "print(\"Route:\")\n",
        "print_route()\n",
        "print(\"Cost:\", final_cost)"
      ]
    },
    {
      "cell_type": "code",
      "source": [],
      "metadata": {
        "id": "RNbpnUvDcy2n"
      },
      "execution_count": null,
      "outputs": []
    }
  ],
  "metadata": {
    "kernelspec": {
      "display_name": "base",
      "language": "python",
      "name": "python3"
    },
    "language_info": {
      "codemirror_mode": {
        "name": "ipython",
        "version": 3
      },
      "file_extension": ".py",
      "mimetype": "text/x-python",
      "name": "python",
      "nbconvert_exporter": "python",
      "pygments_lexer": "ipython3",
      "version": "3.9.6"
    },
    "colab": {
      "provenance": []
    }
  },
  "nbformat": 4,
  "nbformat_minor": 0
}