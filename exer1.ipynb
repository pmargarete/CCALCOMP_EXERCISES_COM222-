{
  "cells": [
    {
      "cell_type": "markdown",
      "metadata": {
        "id": "3-prKGbfwFRd"
      },
      "source": [
        "# Exercise 1"
      ]
    },
    {
      "cell_type": "markdown",
      "metadata": {
        "id": "kBW-_z9HwFRf"
      },
      "source": [
        "Please follow the instructions in each number. Do not remove or modify the pre-defined code!"
      ]
    },
    {
      "cell_type": "code",
      "execution_count": null,
      "metadata": {
        "id": "ABAdD_ngwFRg"
      },
      "outputs": [],
      "source": [
        "# Add a vertex to the set of vertices and the graph\n",
        "def add_vertex(v):\n",
        "  global graph\n",
        "  global vertices_no\n",
        "  global vertices\n",
        "  if v in vertices:\n",
        "    print(\"Vertex \", v, \" already exists\")\n",
        "  else:\n",
        "    vertices_no = vertices_no + 1\n",
        "    vertices.append(v)\n",
        "    if vertices_no > 1:\n",
        "        for vertex in graph:\n",
        "            vertex.append(0)\n",
        "    temp = []\n",
        "    for i in range(vertices_no):\n",
        "        temp.append(0)\n",
        "    graph.append(temp)\n",
        "\n",
        "# Add an edge between vertex v1 and v2 with edge weight e\n",
        "def add_edge(v1, v2, e):\n",
        "    global graph\n",
        "    global vertices_no\n",
        "    global vertices\n",
        "    # Check if vertex v1 is a valid vertex\n",
        "    if v1 not in vertices:\n",
        "        print(\"Vertex \", v1, \" does not exist.\")\n",
        "    # Check if vertex v1 is a valid vertex\n",
        "    elif v2 not in vertices:\n",
        "        print(\"Vertex \", v2, \" does not exist.\")\n",
        "    # Since this code is not restricted to a directed or\n",
        "    # an undirected graph, an edge between v1 v2 does not\n",
        "    # imply that an edge exists between v2 and v1\n",
        "    else:\n",
        "        index1 = vertices.index(v1)\n",
        "        index2 = vertices.index(v2)\n",
        "        graph[index1][index2] = e\n",
        "\n",
        "# Print the graph\n",
        "def print_graph():\n",
        "  global graph\n",
        "  global vertices_no\n",
        "  for i in range(vertices_no):\n",
        "    for j in range(vertices_no):\n",
        "      if graph[i][j] != 0:\n",
        "        print(vertices[i], \" -> \", vertices[j],\n",
        "              \" edge weight: \", graph[i][j])"
      ]
    },
    {
      "cell_type": "code",
      "execution_count": null,
      "metadata": {
        "id": "912w9tR0wFRh"
      },
      "outputs": [],
      "source": [
        "# stores the vertices in the graph\n",
        "vertices = []\n",
        "# stores the number of vertices in the graph\n",
        "vertices_no = 0\n",
        "graph = []"
      ]
    },
    {
      "cell_type": "markdown",
      "metadata": {
        "id": "lzkib3wYwFRh"
      },
      "source": [
        "<img src=\"https://github.com/robitussin/CCALCOMP_EXERCISES/blob/main/images/directed%20graph2.png?raw=true\"/>"
      ]
    },
    {
      "cell_type": "markdown",
      "metadata": {
        "id": "Qfh-2gbPwFRi"
      },
      "source": [
        "1. Print the edges and vertices of the graph in set representation. (`25 points`)"
      ]
    },
    {
      "cell_type": "code",
      "execution_count": null,
      "metadata": {
        "id": "FSymqoxmwFRi",
        "outputId": "a0ef5013-10ac-49ca-812a-5c3f24d8859f",
        "colab": {
          "base_uri": "https://localhost:8080/"
        }
      },
      "outputs": [
        {
          "output_type": "stream",
          "name": "stdout",
          "text": [
            "Vertices:\n",
            "A D E B C \n",
            "Edges:\n",
            "C -> B, A -> C, A -> D, C -> D, B -> A, E -> A, \n",
            "Sorted Vertices:\n",
            "A B C D E \n",
            "Sorted Edges:\n",
            "A -> C, A -> D, B -> A, C -> B, C -> D, E -> A, \n"
          ]
        }
      ],
      "source": [
        "vertices = {'A', 'B', 'C', 'D', 'E'}\n",
        "edges = {('A', 'C'), ('A', 'D'), ('B', 'A'), ('C', 'B'), ('C', 'D'), ('E', 'A')}\n",
        "\n",
        "print(\"Vertices:\")\n",
        "for vertex in vertices:\n",
        "    print(vertex, end=' ')\n",
        "print()\n",
        "\n",
        "print(\"Edges:\")\n",
        "for edge in edges:\n",
        "    print(edge[0], \"->\", edge[1], end=', ')\n",
        "print()\n",
        "\n",
        "\n",
        "#IF U WANT SORTED\n",
        "sorted_vertices = sorted(vertices)\n",
        "sorted_edges = sorted(edges)\n",
        "\n",
        "print(\"Sorted Vertices:\")\n",
        "for vertex in sorted(vertices):\n",
        "    print(vertex, end=' ')\n",
        "print()\n",
        "\n",
        "print(\"Sorted Edges:\")\n",
        "for edge in sorted(edges):\n",
        "    print(edge[0], \"->\", edge[1], end=', ')\n",
        "print()\n"
      ]
    },
    {
      "cell_type": "markdown",
      "metadata": {
        "id": "NHt6QEFzwFRi"
      },
      "source": [
        "2. Implement the weighted graph in python code. Use the print_graph() function. (`25 points`)"
      ]
    },
    {
      "cell_type": "code",
      "execution_count": null,
      "metadata": {
        "id": "fcYP9VF9wFRj",
        "outputId": "9a567cdd-d448-4c4b-c27b-81eb08bf0e2d",
        "colab": {
          "base_uri": "https://localhost:8080/"
        }
      },
      "outputs": [
        {
          "output_type": "stream",
          "name": "stdout",
          "text": [
            "Edge and Values:\n",
            "A  ->  C  edge weight :  12\n",
            "A  ->  D  edge weight :  60\n",
            "B  ->  A  edge weight :  10\n",
            "C  ->  B  edge weight :  20\n",
            "C  ->  D  edge weight :  32\n",
            "E  ->  A  edge weight :  7\n"
          ]
        }
      ],
      "source": [
        "# WHOLE CODE\n",
        "vertices = ['A', 'B', 'C', 'D', 'E']\n",
        "vertices_no = len(vertices)\n",
        "\n",
        "# A-E\n",
        "graph = [\n",
        "    [0, 0, 12, 60, 0],\n",
        "    [10, 0, 0, 0, 0],\n",
        "    [0, 20, 0, 32, 0],\n",
        "    [0, 0, 0, 0, 0],\n",
        "    [7, 0, 0, 0, 0]\n",
        "]\n",
        "\n",
        "# Print the graph\n",
        "def print_graph():\n",
        "    global graph\n",
        "    global vertices\n",
        "    global vertices_no\n",
        "\n",
        "    for i in range(vertices_no):\n",
        "        for j in range(vertices_no):\n",
        "            if graph[i][j] != 0:\n",
        "                print(vertices[i], \" -> \", vertices[j],\n",
        "                      \" edge weight : \", graph[i][j])\n",
        "\n",
        "print(\"Edge and Values:\")\n",
        "print_graph() # edge and values\n",
        "\n"
      ]
    },
    {
      "cell_type": "markdown",
      "metadata": {
        "id": "kD-6afNTwFRj"
      },
      "source": [
        "3. You decided to go on a trip around the philippines. Being a computer scientist, you wanted to find the optimal route that would cost the least amount of money to travel all four cities. Find the route and print the total cost of the most optimal route. (`50 points`)"
      ]
    },
    {
      "cell_type": "markdown",
      "metadata": {
        "id": "cBHIHSIewFRj"
      },
      "source": [
        "<img src=\"https://github.com/robitussin/CCALCOMP_EXERCISES/blob/main/images/trip.png?raw=true\" width=\"500\" height=\"600\"/>"
      ]
    },
    {
      "cell_type": "code",
      "execution_count": null,
      "metadata": {
        "id": "yNwmvIXnwFRj",
        "outputId": "5dd4e86c-995d-4c8c-c550-f89842920b66",
        "colab": {
          "base_uri": "https://localhost:8080/"
        }
      },
      "outputs": [
        {
          "output_type": "stream",
          "name": "stdout",
          "text": [
            "Route:\n",
            "Manila  ->  Tacloban\n",
            "Tacloban  ->  Puerto Princesa\n",
            "Puerto Princesa  ->  Davao\n",
            "Cost: 6500\n"
          ]
        }
      ],
      "source": [
        "#ROUTE AND CHEAPEST\n",
        "places = ['Manila', 'Tacloban', 'Puerto Princesa', 'Davao']\n",
        "vertices_no = len(places)\n",
        "final_cost = 0\n",
        "\n",
        "\n",
        "\n",
        "cost = [\n",
        "    [0, 1000, 0, 0],\n",
        "    [0, 0, 1500, 0],\n",
        "    [0, 0, 0, 4000],\n",
        "    [0, 0, 0, 0]\n",
        "]\n",
        "\n",
        "\n",
        "def print_route():\n",
        "    global cost\n",
        "    global places\n",
        "    global vertices_no\n",
        "    global final_cost\n",
        "\n",
        "    for i in range(vertices_no):\n",
        "        for j in range(vertices_no):\n",
        "            if cost[i][j] != 0:\n",
        "                print(places[i], \" -> \", places[j])\n",
        "                final_cost += cost[i][j]\n",
        "\n",
        "\n",
        "print(\"Route:\")\n",
        "print_route()\n",
        "print(\"Cost:\", final_cost)"
      ]
    }
  ],
  "metadata": {
    "kernelspec": {
      "display_name": "base",
      "language": "python",
      "name": "python3"
    },
    "language_info": {
      "codemirror_mode": {
        "name": "ipython",
        "version": 3
      },
      "file_extension": ".py",
      "mimetype": "text/x-python",
      "name": "python",
      "nbconvert_exporter": "python",
      "pygments_lexer": "ipython3",
      "version": "3.9.6"
    },
    "colab": {
      "provenance": []
    }
  },
  "nbformat": 4,
  "nbformat_minor": 0
}